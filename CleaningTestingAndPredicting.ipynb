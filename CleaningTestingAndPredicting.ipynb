{
 "cells": [
  {
   "cell_type": "code",
   "execution_count": 1,
   "id": "195cebbd",
   "metadata": {},
   "outputs": [],
   "source": [
    "import pybaseball as pb\n",
    "import pandas as pd\n",
    "import numpy as np\n",
    "import sklearn as sk\n",
    "import matplotlib.pyplot as plt\n",
    "import seaborn as sns\n",
    "import xgboost as xgb\n",
    "from tqdm import tqdm\n",
    "from sklearn import metrics, preprocessing\n",
    "from sklearn.model_selection import KFold, RandomizedSearchCV, GridSearchCV, train_test_split, cross_val_score, StratifiedKFold\n",
    "from sklearn.linear_model import LogisticRegression\n",
    "from sklearn.metrics import accuracy_score, confusion_matrix, classification_report, make_scorer\n",
    "from sklearn.ensemble import RandomForestClassifier, ExtraTreesClassifier\n",
    "from sklearn.preprocessing import StandardScaler, OneHotEncoder\n",
    "from sklearn.pipeline import make_pipeline\n",
    "from sklearn.datasets import make_classification\n",
    "from sklearn.neighbors import KNeighborsClassifier\n",
    "from sklearn.cluster import KMeans"
   ]
  },
  {
   "cell_type": "code",
   "execution_count": 2,
   "id": "5cb4c60b",
   "metadata": {},
   "outputs": [
    {
     "name": "stdout",
     "output_type": "stream",
     "text": [
      "This is a large query, it may take a moment to complete\n"
     ]
    },
    {
     "name": "stderr",
     "output_type": "stream",
     "text": [
      "100%|██████████| 188/188 [01:10<00:00,  2.66it/s]\n"
     ]
    },
    {
     "name": "stdout",
     "output_type": "stream",
     "text": [
      "This is a large query, it may take a moment to complete\n"
     ]
    },
    {
     "name": "stderr",
     "output_type": "stream",
     "text": [
      "100%|██████████| 183/183 [01:18<00:00,  2.32it/s]\n"
     ]
    }
   ],
   "source": [
    "pb.cache.enable()\n",
    "thisYearPitches = pb.statcast(start_dt = '2023-03-29', end_dt = '2023-10-02')\n",
    "lastYearPitches = pb.statcast(start_dt = '2022-04-06', end_dt = '2022-10-05')\n",
    "#Using pybaseball, I downloaded all pitches thrown this season."
   ]
  },
  {
   "cell_type": "markdown",
   "id": "9293a332",
   "metadata": {},
   "source": [
    "# Cleaning Data\n",
    "\n",
    "### To clean the data, I edited the pitch data to only include at bats that ended in balls put in play. Along with this, I removed any features unrelated to player identification, pitch identification, and batted ball information. I also made small edits to some features to enhance precision and readability. I did this with two years of data that way I could easily train the model on last year's data and have it predict on this year's data."
   ]
  },
  {
   "cell_type": "code",
   "execution_count": 3,
   "id": "aa042955",
   "metadata": {},
   "outputs": [],
   "source": [
    "thisYearBBE = thisYearPitches.loc[thisYearPitches['description'] == 'hit_into_play']\n",
    "thisYearBBE = thisYearBBE.loc[thisYearBBE['events'] != 'catcher_interf']\n",
    "thisYearBBE = thisYearBBE.drop(['release_speed', 'release_pos_x', 'release_pos_z', 'spin_dir', 'fld_score', 'post_away_score', 'post_home_score', 'post_bat_score', 'post_fld_score', 'if_fielding_alignment', 'of_fielding_alignment', 'spin_axis', 'delta_home_win_exp', 'delta_run_exp', 'spin_rate_deprecated', 'break_angle_deprecated', 'break_length_deprecated', 'des', 'woba_denom', 'babip_value', 'iso_value', 'at_bat_number', 'pitch_number', 'home_score', 'away_score', 'bat_score', 'fielder_2', 'fielder_3', 'fielder_4', 'fielder_5', 'fielder_6', 'fielder_7', 'fielder_8', 'fielder_9', 'release_pos_y', 'estimated_woba_using_speedangle', 'woba_value', 'type', 'hit_location', 'bb_type', 'balls', 'strikes', 'hit_distance_sc', 'effective_speed', 'release_spin_rate', 'release_extension', 'game_pk', 'pitcher.1', 'fielder_2.1', 'game_year', 'pfx_x', 'pfx_z', 'plate_x', 'plate_z', 'vy0', 'vz0', 'ax', 'ay', 'az', 'sz_top', 'sz_bot', 'on_3b', 'on_2b', 'on_1b', 'outs_when_up', 'inning', 'hc_x', 'hc_y', 'tfs_deprecated', 'tfs_zulu_deprecated', 'umpire', 'sv_id', 'vx0', 'inning_topbot', 'game_type', 'stand', 'p_throws', 'home_team', 'away_team'], axis=1)\n",
    "#I kept all occurences of the ball being hit into play, not including catcher's interference because it doesn't produce batted ball data."
   ]
  },
  {
   "cell_type": "code",
   "execution_count": 4,
   "id": "d93647d9",
   "metadata": {},
   "outputs": [],
   "source": [
    "lastYearBBE = lastYearPitches.loc[lastYearPitches['description'] == 'hit_into_play']\n",
    "lastYearBBE = lastYearBBE.loc[lastYearBBE['events'] != 'catcher_interf']\n",
    "lastYearBBE = lastYearBBE.drop(['release_speed', 'release_pos_x', 'release_pos_z', 'spin_dir', 'fld_score', 'post_away_score', 'post_home_score', 'post_bat_score', 'post_fld_score', 'if_fielding_alignment', 'of_fielding_alignment', 'spin_axis', 'delta_home_win_exp', 'delta_run_exp', 'spin_rate_deprecated', 'break_angle_deprecated', 'break_length_deprecated', 'des', 'woba_denom', 'babip_value', 'iso_value', 'at_bat_number', 'pitch_number', 'home_score', 'away_score', 'bat_score', 'fielder_2', 'fielder_3', 'fielder_4', 'fielder_5', 'fielder_6', 'fielder_7', 'fielder_8', 'fielder_9', 'release_pos_y', 'estimated_woba_using_speedangle', 'woba_value', 'type', 'hit_location', 'bb_type', 'balls', 'strikes', 'hit_distance_sc', 'effective_speed', 'release_spin_rate', 'release_extension', 'game_pk', 'pitcher.1', 'fielder_2.1', 'game_year', 'pfx_x', 'pfx_z', 'plate_x', 'plate_z', 'vy0', 'vz0', 'ax', 'ay', 'az', 'sz_top', 'sz_bot', 'on_3b', 'on_2b', 'on_1b', 'outs_when_up', 'inning', 'hc_x', 'hc_y', 'tfs_deprecated', 'tfs_zulu_deprecated', 'umpire', 'sv_id', 'vx0', 'inning_topbot', 'game_type', 'stand', 'p_throws', 'home_team', 'away_team'], axis=1)"
   ]
  },
  {
   "cell_type": "code",
   "execution_count": 5,
   "id": "92ec12f7",
   "metadata": {},
   "outputs": [],
   "source": [
    "BBE = pd.DataFrame(thisYearBBE)\n",
    "BBE2 = pd.DataFrame(lastYearBBE)"
   ]
  },
  {
   "cell_type": "code",
   "execution_count": 6,
   "id": "15aa6669",
   "metadata": {},
   "outputs": [],
   "source": [
    "BBE = BBE.dropna(how = 'any')\n",
    "BBE2 = BBE2.dropna(how = 'any')"
   ]
  },
  {
   "cell_type": "code",
   "execution_count": 7,
   "id": "e025120e",
   "metadata": {},
   "outputs": [],
   "source": [
    "BBE['events'] = BBE['events'].replace(['single', 'double', 'triple', 'home_run'], 1)\n",
    "BBE['events'] = BBE['events'].replace(['field_out', 'field_error', 'grounded_into_double_play', 'force_out', 'sac_fly', 'sac_bunt', 'double_play', 'fielders_choice', 'fielders_choice_out', 'sac_fly_double_play', 'triple_play', 'sac_bunt_double_play'], 0)\n",
    "BBE2['events'] = BBE2['events'].replace(['single', 'double', 'triple', 'home_run'], 1)\n",
    "BBE2['events'] = BBE2['events'].replace(['field_out', 'field_error', 'grounded_into_double_play', 'force_out', 'sac_fly', 'sac_bunt', 'double_play', 'fielders_choice', 'fielders_choice_out', 'sac_fly_double_play', 'triple_play', 'sac_bunt_double_play'], 0)\n",
    "#This changes all hits into a 1 and all outs in 0 so that machine learning models can properly train themselves."
   ]
  },
  {
   "cell_type": "code",
   "execution_count": 8,
   "id": "ed1107db",
   "metadata": {},
   "outputs": [],
   "source": [
    "BBE = BBE[['pitch_type', 'game_date', 'player_name', 'batter', 'pitcher', 'description', 'pitch_name', 'launch_speed', 'launch_angle', 'events', 'zone', 'launch_speed_angle', 'estimated_ba_using_speedangle']]\n",
    "BBE2 = BBE2[['pitch_type', 'game_date', 'player_name', 'batter', 'pitcher', 'description', 'pitch_name', 'launch_speed', 'launch_angle', 'events', 'zone', 'launch_speed_angle', 'estimated_ba_using_speedangle']]"
   ]
  },
  {
   "cell_type": "code",
   "execution_count": 9,
   "id": "25f1e626",
   "metadata": {},
   "outputs": [],
   "source": [
    "#Perform one-hot encoding\n",
    "one_hot_encoded = pd.get_dummies(BBE['launch_speed_angle'], prefix='')\n",
    "one_hot_encoded2 = pd.get_dummies(BBE2['launch_speed_angle'], prefix='')\n",
    "\n",
    "#Concatenate the original DataFrame with the one-hot encoded columns\n",
    "BBE = pd.concat([BBE, one_hot_encoded], axis=1)\n",
    "BBE2 = pd.concat([BBE2, one_hot_encoded2], axis=1)"
   ]
  },
  {
   "cell_type": "code",
   "execution_count": 10,
   "id": "22a123c2",
   "metadata": {},
   "outputs": [],
   "source": [
    "BBE.columns = ['pitch_type', 'game_date', 'pitcher_name', 'batter', 'pitcher', 'description', 'pitch_name', 'launch_speed', 'launch_angle', 'events', 'zone', 'launch_speed_angle', 'estimated_ba_using_speedangle', 'weak_contact', 'topped', 'under', 'flare', 'solid_contact', 'barreled']\n",
    "BBE2.columns = ['pitch_type', 'game_date', 'pitcher_name', 'batter', 'pitcher', 'description', 'pitch_name', 'launch_speed', 'launch_angle', 'events', 'zone', 'launch_speed_angle', 'estimated_ba_using_speedangle', 'weak_contact', 'topped', 'under', 'flare', 'solid_contact', 'barreled']"
   ]
  },
  {
   "cell_type": "code",
   "execution_count": 11,
   "id": "93787f95",
   "metadata": {},
   "outputs": [],
   "source": [
    "BBE['launch_speed_angle'] = BBE['launch_speed_angle'].replace([1], 7)\n",
    "BBE['launch_speed_angle'] = BBE['launch_speed_angle'].replace([3], 1)\n",
    "BBE['launch_speed_angle'] = BBE['launch_speed_angle'].replace([7], 3)\n",
    "BBE['launch_speed_angle'] = BBE['launch_speed_angle'].replace([4], 7)\n",
    "BBE['launch_speed_angle'] = BBE['launch_speed_angle'].replace([5], 4)\n",
    "BBE['launch_speed_angle'] = BBE['launch_speed_angle'].replace([7], 5)\n",
    "#This reorders the column so that the outcomes that the numbers are sorted by their likeliness to produce a hit."
   ]
  },
  {
   "cell_type": "code",
   "execution_count": 12,
   "id": "52c33c5d",
   "metadata": {},
   "outputs": [],
   "source": [
    "BBE2['launch_speed_angle'] = BBE2['launch_speed_angle'].replace([1], 7)\n",
    "BBE2['launch_speed_angle'] = BBE2['launch_speed_angle'].replace([3], 1)\n",
    "BBE2['launch_speed_angle'] = BBE2['launch_speed_angle'].replace([7], 3)\n",
    "BBE2['launch_speed_angle'] = BBE2['launch_speed_angle'].replace([4], 7)\n",
    "BBE2['launch_speed_angle'] = BBE2['launch_speed_angle'].replace([5], 4)\n",
    "BBE2['launch_speed_angle'] = BBE2['launch_speed_angle'].replace([7], 5)"
   ]
  },
  {
   "cell_type": "markdown",
   "id": "c007ebf9",
   "metadata": {},
   "source": [
    "# Testing Data\n",
    "\n",
    "### To test the data, I used different combinations of features across different machine learning algorithms to see which combination of the two produced the most accurate results. A combination of KNN and XGBoost achieved the highest accuracy, just over 80%. Logistic regression, extra forest, and random forest models achieved between 76% and 79%. I tested each model with data that possessed KNN predictions and data that did not. I also tested an unsupervised learning model, KMeans, but it performed very poorly with only a 55% accuracy."
   ]
  },
  {
   "cell_type": "code",
   "execution_count": 13,
   "id": "e2039997",
   "metadata": {},
   "outputs": [],
   "source": [
    "#Here I tested out different combinations of features to see which brought the best results.\n",
    "X = BBE[['launch_speed', 'launch_angle', 'launch_speed_angle', 'zone', 'weak_contact', 'topped', 'under', 'flare', 'solid_contact', 'barreled']]\n",
    "#X = BBE[['launch_speed', 'launch_angle', 'launch_speed_angle', 'zone']]\n",
    "#X = BBE[['launch_speed', 'launch_angle', 'zone']]\n",
    "#X = BBE[['launch_speed', 'launch_angle', 'launch_speed_angle', 'weak_contact', 'topped', 'under', 'flare', 'solid_contact', 'barreled']]\n",
    "y = BBE['events']"
   ]
  },
  {
   "cell_type": "code",
   "execution_count": 14,
   "id": "6ad082c7",
   "metadata": {},
   "outputs": [],
   "source": [
    "X_train, X_test, y_train, y_test = train_test_split(X, y, test_size = .2, random_state=24)\n",
    "X2_train, X2_test, y2_train, y2_test = train_test_split(X_train, y_train, test_size = .5, random_state=24)\n",
    "#Double split so that the KNN model can fit a separate train data set than the training data the XGBoost will see.\n",
    "#If there was only one training dataset, the KNN model would have already seen it when it predicts on it 2 cells down."
   ]
  },
  {
   "cell_type": "code",
   "execution_count": 15,
   "id": "42e7745a",
   "metadata": {},
   "outputs": [
    {
     "name": "stdout",
     "output_type": "stream",
     "text": [
      "Best Parameters: {'leaf_size': 10, 'n_neighbors': 190, 'p': 2, 'weights': 'uniform'}\n"
     ]
    }
   ],
   "source": [
    "#This model will look at data points will very similar features and make predictions based off of this.\n",
    "knn = KNeighborsClassifier()\n",
    "\n",
    "param_grid = {\n",
    "    'n_neighbors': [100, 150, 190, 250, 300],\n",
    "    'p': [1, 2],\n",
    "    'weights': ['uniform', 'distance'],\n",
    "    'leaf_size': [10, 20, 30]\n",
    "}\n",
    "\n",
    "#Find the best parameters from the grid above\n",
    "grid_search = GridSearchCV(estimator=knn, param_grid=param_grid, scoring='accuracy', n_jobs=-1)\n",
    "grid_search.fit(X2_train, y2_train)\n",
    "\n",
    "#Output the best parameters\n",
    "print(\"Best Parameters:\", grid_search.best_params_)\n",
    "\n",
    "#Get the best KNN model from the grid search\n",
    "best_knn_model = grid_search.best_estimator_"
   ]
  },
  {
   "cell_type": "code",
   "execution_count": 16,
   "id": "c53a60c7",
   "metadata": {},
   "outputs": [],
   "source": [
    "#Add a feature that consists of the knn model predictions to give more variables for the XGBoost to look at.\n",
    "knn_train_predictions = best_knn_model.predict(X_train)\n",
    "knn_test_predictions = best_knn_model.predict(X_test)\n",
    "X_train_concatenated = np.column_stack((X_train, knn_train_predictions))\n",
    "X_test_concatenated = np.column_stack((X_test, knn_test_predictions))"
   ]
  },
  {
   "cell_type": "code",
   "execution_count": 17,
   "id": "4322f751",
   "metadata": {},
   "outputs": [
    {
     "name": "stdout",
     "output_type": "stream",
     "text": [
      "Fitting 3 folds for each of 9 candidates, totalling 27 fits\n",
      "Best Parameters: {'colsample_bytree': 0.8, 'gamma': 0.3, 'learning_rate': 0.1, 'max_depth': 3, 'min_child_weight': 7, 'n_estimators': 240, 'subsample': 0.6}\n",
      "Mean Accuracy: 0.8049466910952653\n",
      "Standard Deviation: 0.001718697023082345\n"
     ]
    }
   ],
   "source": [
    "#XGBoost is a tree algorithm that builds itself off of previously made trees to help increase accuracy.\n",
    "#It was the best performing model that was tested.\n",
    "xgbmo = xgb.XGBClassifier(objective='binary:logistic', random_state=24)\n",
    "\n",
    "param_grid = {\n",
    "    'n_estimators': [100, 200, 240, 300, 400],\n",
    "    'learning_rate': [0.1],\n",
    "    'max_depth': [3],\n",
    "    'min_child_weight': [7],\n",
    "    'gamma': [0.3],\n",
    "    'subsample': [0.6, 0.8, 1.0],\n",
    "    'colsample_bytree': [0.6, 0.8, 1.0]\n",
    "}\n",
    "\n",
    "#Cross validation to better test accuracy of model\n",
    "cv = StratifiedKFold(n_splits=3, shuffle=True, random_state=24)\n",
    "\n",
    "#Find the best parameters from the grid above\n",
    "grid_search = GridSearchCV(estimator=xgbmo, param_grid=param_grid, cv=cv, verbose=2, n_jobs=-1)\n",
    "\n",
    "grid_search.fit(X_train_concatenated, y_train)\n",
    "\n",
    "#Output the best parameters\n",
    "print(\"Best Parameters:\", grid_search.best_params_)\n",
    "\n",
    "#Get the best XGBoost model from the grid search \n",
    "best_model = grid_search.best_estimator_\n",
    "\n",
    "cv_scores = cross_val_score(best_model, X, y, cv=cv, scoring='accuracy', n_jobs=-1)\n",
    "\n",
    "#Print the mean and standard deviation of the cross-validated scores\n",
    "print(\"Mean Accuracy:\", cv_scores.mean())\n",
    "print(\"Standard Deviation:\", cv_scores.std())\n",
    "\n",
    "y_pred = best_model.predict(X_test_concatenated)"
   ]
  },
  {
   "cell_type": "code",
   "execution_count": 18,
   "id": "16e08d50",
   "metadata": {},
   "outputs": [
    {
     "name": "stdout",
     "output_type": "stream",
     "text": [
      "Accuracy on Test Set: 0.8051423027166882\n"
     ]
    },
    {
     "data": {
      "text/plain": [
       "Text(0.5, 257.44, 'Predicted label')"
      ]
     },
     "execution_count": 18,
     "metadata": {},
     "output_type": "execute_result"
    },
    {
     "data": {
      "image/png": "[encoded data removed]",
      "text/plain": [
       "<Figure size 432x288 with 2 Axes>"
      ]
     },
     "metadata": {
      "needs_background": "light"
     },
     "output_type": "display_data"
    }
   ],
   "source": [
    "accuracy = accuracy_score(y_test, y_pred)\n",
    "print(\"Accuracy on Test Set:\", accuracy)\n",
    "cnf_matrix = metrics.confusion_matrix(y_test, y_pred)\n",
    "class_names=[0,1]\n",
    "fig, ax = plt.subplots()\n",
    "tick_marks = np.arange(len(class_names))\n",
    "plt.xticks(tick_marks, class_names)\n",
    "plt.yticks(tick_marks, class_names)\n",
    "sns.heatmap(pd.DataFrame(cnf_matrix), annot=True, cmap=\"YlGnBu\" ,fmt='g')\n",
    "ax.xaxis.set_label_position(\"top\")\n",
    "plt.tight_layout()\n",
    "plt.title('Confusion matrix', y=1.1)\n",
    "plt.ylabel('Actual label')\n",
    "plt.xlabel('Predicted label')\n",
    "#This prints the confusion matrix made above to see where correct and incorrect predictions occur."
   ]
  },
  {
   "cell_type": "code",
   "execution_count": 19,
   "id": "3372234c",
   "metadata": {},
   "outputs": [
    {
     "name": "stdout",
     "output_type": "stream",
     "text": [
      "              precision    recall  f1-score   support\n",
      "\n",
      "         out       0.83      0.88      0.86     16593\n",
      "         hit       0.73      0.64      0.68      8143\n",
      "\n",
      "    accuracy                           0.81     24736\n",
      "   macro avg       0.78      0.76      0.77     24736\n",
      "weighted avg       0.80      0.81      0.80     24736\n",
      "\n"
     ]
    }
   ],
   "source": [
    "#This shows the accuracy of each outcome. The algorithm predicts that an out will be a hit far more than any other error,\n",
    "#this is where most improvements will likely be made.\n",
    "target_names = ['out', 'hit']\n",
    "print(classification_report(y_test, y_pred, target_names=target_names))"
   ]
  },
  {
   "cell_type": "code",
   "execution_count": 20,
   "id": "f71f2969",
   "metadata": {},
   "outputs": [
    {
     "name": "stdout",
     "output_type": "stream",
     "text": [
      "78.34331 %\n"
     ]
    }
   ],
   "source": [
    "#Testing logistic regression\n",
    "pipeline = make_pipeline(StandardScaler(), LogisticRegression(class_weight='balanced'))\n",
    "pipeline.fit(X_train, y_train)\n",
    "y_pred = pipeline.predict(X_test)\n",
    "print(round(accuracy_score(y_test, y_pred) * 100, 5), \"%\")"
   ]
  },
  {
   "cell_type": "code",
   "execution_count": 21,
   "id": "fb37bda7",
   "metadata": {},
   "outputs": [
    {
     "name": "stdout",
     "output_type": "stream",
     "text": [
      "79.33376 %\n"
     ]
    }
   ],
   "source": [
    "#Testing logistic regression\n",
    "pipeline = make_pipeline(StandardScaler(), LogisticRegression(class_weight='balanced'))\n",
    "pipeline.fit(X_train_concatenated, y_train)\n",
    "y_pred = pipeline.predict(X_test_concatenated)\n",
    "print(round(accuracy_score(y_test, y_pred) * 100, 5), \"%\")"
   ]
  },
  {
   "cell_type": "code",
   "execution_count": 22,
   "id": "5fdf6ec9",
   "metadata": {},
   "outputs": [
    {
     "name": "stdout",
     "output_type": "stream",
     "text": [
      "75.9662 %\n"
     ]
    }
   ],
   "source": [
    "#Testing the extra trees model.\n",
    "etf = ExtraTreesClassifier(n_estimators = 100)\n",
    "etf.fit(X_train, y_train)\n",
    "etf_pred = etf.predict(X_test)\n",
    "print(round(accuracy_score(y_test, etf_pred)*100,5), \"%\")"
   ]
  },
  {
   "cell_type": "code",
   "execution_count": 23,
   "id": "764f2f7d",
   "metadata": {},
   "outputs": [
    {
     "name": "stdout",
     "output_type": "stream",
     "text": [
      "76.04706 %\n"
     ]
    }
   ],
   "source": [
    "#Testing the extra trees model.\n",
    "etf = ExtraTreesClassifier(n_estimators = 100)\n",
    "etf.fit(X_train_concatenated, y_train)\n",
    "etf_pred = etf.predict(X_test_concatenated)\n",
    "print(round(accuracy_score(y_test, etf_pred)*100,5), \"%\")"
   ]
  },
  {
   "cell_type": "code",
   "execution_count": 24,
   "id": "595a53dc",
   "metadata": {},
   "outputs": [
    {
     "name": "stdout",
     "output_type": "stream",
     "text": [
      "76.90815 %\n"
     ]
    }
   ],
   "source": [
    "#Testing the random forest model.\n",
    "rf = RandomForestClassifier(n_estimators=100)\n",
    "rf.fit(X_train, y_train)\n",
    "rf_prediction = rf.predict(X_test)\n",
    "print(round(accuracy_score(y_test, rf_prediction)*100,5), \"%\")"
   ]
  },
  {
   "cell_type": "code",
   "execution_count": 25,
   "id": "d98ba098",
   "metadata": {},
   "outputs": [
    {
     "name": "stdout",
     "output_type": "stream",
     "text": [
      "76.92836 %\n"
     ]
    }
   ],
   "source": [
    "#Testing the random forest model.\n",
    "rf = RandomForestClassifier(n_estimators=100)\n",
    "rf.fit(X_train_concatenated, y_train)\n",
    "rf_prediction = rf.predict(X_test_concatenated)\n",
    "print(round(accuracy_score(y_test, rf_prediction)*100,5), \"%\")"
   ]
  },
  {
   "cell_type": "code",
   "execution_count": 26,
   "id": "55ef5291",
   "metadata": {},
   "outputs": [
    {
     "name": "stdout",
     "output_type": "stream",
     "text": [
      "45.5207 %\n"
     ]
    }
   ],
   "source": [
    "#Testing an unsupervised learning algorithm\n",
    "kmeans_model = KMeans(n_clusters=2, random_state=24)\n",
    "kmeans_model.fit(X_train_concatenated)\n",
    "y_kmeans_pred = kmeans_model.predict(X_test_concatenated)\n",
    "print(round(accuracy_score(y_test, y_kmeans_pred)*100,5), \"%\")"
   ]
  },
  {
   "cell_type": "markdown",
   "id": "affb1d50",
   "metadata": {},
   "source": [
    "# Making Predictions\n",
    "\n",
    "### A prediction is made on each batted ball hit by a batter to find their expected batting average(xBA). The model is trained on all data except the data that the player provided. Using these predictions, we will also find an expected batting average against(xBAA) value for every pitcher. Finally, the xBA and xBAA value produced is added to a CSV to be displayed on the shiny application."
   ]
  },
  {
   "cell_type": "code",
   "execution_count": 35,
   "id": "763116f7",
   "metadata": {},
   "outputs": [],
   "source": [
    "pdf = pd.read_csv(r'C:\\Users\\aveng\\Downloads\\Batters1.csv')\n",
    "pdf2 = pd.read_csv(r'C:\\Users\\aveng\\Downloads\\Pitchers1.csv')"
   ]
  },
  {
   "cell_type": "code",
   "execution_count": 28,
   "id": "894f7194",
   "metadata": {},
   "outputs": [],
   "source": [
    "X_train = BBE2[['launch_speed', 'launch_angle', 'launch_speed_angle', 'zone', 'weak_contact', 'topped', 'under', 'flare', 'solid_contact', 'barreled']]\n",
    "y_train = BBE2['events']\n",
    "X_test = BBE[['launch_speed', 'launch_angle', 'launch_speed_angle', 'zone', 'weak_contact', 'topped', 'under', 'flare', 'solid_contact', 'barreled']]\n",
    "y_test = BBE['events']\n",
    "df = BBE"
   ]
  },
  {
   "cell_type": "code",
   "execution_count": 29,
   "id": "b45e3f4b",
   "metadata": {},
   "outputs": [],
   "source": [
    "X2_train, X2_test, y2_train, y2_test = train_test_split(X_train, y_train, test_size = .5, random_state=24)\n",
    "#Two training sets for the same reasons as listed above."
   ]
  },
  {
   "cell_type": "code",
   "execution_count": 31,
   "id": "7a8172d5",
   "metadata": {},
   "outputs": [],
   "source": [
    "#Train the model on last year's data\n",
    "\n",
    "#KNN classifier with specified parameters\n",
    "knn = KNeighborsClassifier(n_neighbors=190, p=2, weights='uniform', leaf_size=10)\n",
    "knn.fit(X2_train, y2_train)\n",
    "knn_train_predictions = knn.predict(X_train)\n",
    "knn_test_predictions = knn.predict(X_test)\n",
    "newTrain = np.column_stack((X_train, knn_train_predictions))\n",
    "newTest = np.column_stack((X_test, knn_test_predictions))\n",
    "#XGBoost classifier with specified parameters\n",
    "xgbmo = xgb.XGBClassifier(objective='binary:logistic', random_state=24, n_estimators=240, learning_rate=0.1, max_depth=3,  min_child_weight=7, gamma=0.3, subsample=0.6, colsample_bytree=0.8)\n",
    "xgbmo.fit(newTrain, y_train)\n",
    "y_pred = xgbmo.predict(newTest)\n",
    "df['predicted_values'] = y_pred"
   ]
  },
  {
   "cell_type": "code",
   "execution_count": 47,
   "id": "91782e8c",
   "metadata": {},
   "outputs": [
    {
     "name": "stderr",
     "output_type": "stream",
     "text": [
      "Processing batters: 100%|██████████| 651/651 [00:01<00:00, 615.99batter/s]\n"
     ]
    }
   ],
   "source": [
    "unique_batters = df['batter'].unique()\n",
    "\n",
    "progress_bar_batters = tqdm(total=len(unique_batters), desc=\"Processing batters\", unit=\"batter\")\n",
    "\n",
    "#Loop over every batter\n",
    "for x in unique_batters:\n",
    "    row = pdf.loc[pdf['batter'] == x]\n",
    "    playerabs = row['abs'].values[0]\n",
    "    predictions = df.loc[df['batter'] == x, 'predicted_values'].sum()\n",
    "    xBA = round(predictions / playerabs, 4)\n",
    "    pdf.loc[pdf['batter'] == x, 'xBA'] = xBA\n",
    "    #The stat is calculated and imported into the xBA column at the row the player is.\n",
    "    progress_bar_batters.update(1)\n",
    "    \n",
    "progress_bar_batters.close()"
   ]
  },
  {
   "cell_type": "code",
   "execution_count": 49,
   "id": "13e9ca08",
   "metadata": {},
   "outputs": [
    {
     "name": "stderr",
     "output_type": "stream",
     "text": [
      "Processing pitchers: 100%|██████████| 862/862 [00:01<00:00, 603.74pitcher/s]\n"
     ]
    }
   ],
   "source": [
    "unique_pitchers = df['pitcher'].unique()\n",
    "\n",
    "progress_bar_pitchers = tqdm(total=len(unique_pitchers), desc=\"Processing pitchers\", unit=\"pitcher\")\n",
    "\n",
    "#Loop over every pitcher\n",
    "for x in unique_pitchers:\n",
    "    row = pdf2.loc[pdf2['pitcher'] == x]\n",
    "    pitcherabs = row['pabs'].values[0]\n",
    "    predictions = df.loc[df['pitcher'] == x, 'predicted_values'].sum()\n",
    "    xBAA = round(predictions / pitcherabs, 4)\n",
    "    pdf2.loc[pdf2['pitcher'] == x, 'xBAA'] = xBAA\n",
    "    #The stat is calculated and imported into the xBAA column at the row the player is.\n",
    "    progress_bar_pitchers.update(1)\n",
    "    \n",
    "progress_bar_pitchers.close()"
   ]
  },
  {
   "cell_type": "code",
   "execution_count": 52,
   "id": "490fde4a",
   "metadata": {},
   "outputs": [],
   "source": [
    "pdf.to_csv(r'C:\\Users\\aveng\\Downloads\\Batters.csv', index=False)"
   ]
  },
  {
   "cell_type": "code",
   "execution_count": 53,
   "id": "3afb768d",
   "metadata": {},
   "outputs": [],
   "source": [
    "pdf2.to_csv(r'C:\\Users\\aveng\\Downloads\\Pitchers.csv', index=False)"
   ]
  },
  {
   "cell_type": "code",
   "execution_count": 55,
   "id": "0826fda3",
   "metadata": {},
   "outputs": [],
   "source": [
    "df.to_csv(r'C:\\Users\\aveng\\Downloads\\Predictions.csv', index=False)"
   ]
  }
 ],
 "metadata": {
  "kernelspec": {
   "display_name": "Python 3 (ipykernel)",
   "language": "python",
   "name": "python3"
  },
  "language_info": {
   "codemirror_mode": {
    "name": "ipython",
    "version": 3
   },
   "file_extension": ".py",
   "mimetype": "text/x-python",
   "name": "python",
   "nbconvert_exporter": "python",
   "pygments_lexer": "ipython3",
   "version": "3.9.12"
  }
 },
 "nbformat": 4,
 "nbformat_minor": 5
}
