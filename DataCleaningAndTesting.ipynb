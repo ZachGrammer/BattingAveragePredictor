{
 "cells": [
  {
   "cell_type": "code",
   "execution_count": 1,
   "id": "fbd11ea3",
   "metadata": {},
   "outputs": [],
   "source": [
    "import pybaseball as pb\n",
    "import pandas as pd\n",
    "import numpy as np\n",
    "import sklearn as sk\n",
    "import matplotlib.pyplot as plt\n",
    "import seaborn as sns\n",
    "from sklearn.model_selection import train_test_split\n",
    "from sklearn.linear_model import LogisticRegression\n",
    "from sklearn.metrics import accuracy_score, confusion_matrix, classification_report\n",
    "from sklearn import metrics\n",
    "from sklearn.ensemble import RandomForestClassifier, ExtraTreesClassifier\n",
    "from sklearn import preprocessing\n",
    "from sklearn.preprocessing import StandardScaler, OneHotEncoder\n",
    "from sklearn.pipeline import make_pipeline\n",
    "from sklearn.datasets import make_classification\n",
    "#from sklearn.model_selection import GridSearchCV, StratifiedKFold"
   ]
  },
  {
   "cell_type": "code",
   "execution_count": 2,
   "id": "65f9869d",
   "metadata": {},
   "outputs": [
    {
     "name": "stdout",
     "output_type": "stream",
     "text": [
      "This is a large query, it may take a moment to complete\n"
     ]
    },
    {
     "name": "stderr",
     "output_type": "stream",
     "text": [
      "C:\\Users\\aveng\\anaconda3\\lib\\site-packages\\pybaseball\\statcast.py:50: UserWarning: \n",
      "That's a nice request you got there. It'd be a shame if something were to happen to it.\n",
      "We strongly recommend that you enable caching before running this. It's as simple as `pybaseball.cache.enable()`.\n",
      "Since the Statcast requests can take a *really* long time to run, if something were to happen, like: a disconnect;\n",
      "gremlins; computer repair by associates of Rudy Giuliani; electromagnetic interference from metal trash cans; etc.;\n",
      "you could lose a lot of progress. Enabling caching will allow you to immediately recover all the successful\n",
      "subqueries if that happens.\n",
      "  warnings.warn(_OVERSIZE_WARNING)\n",
      "100%|██████████| 188/188 [01:32<00:00,  2.03it/s]\n"
     ]
    }
   ],
   "source": [
    "thisYearPitches = pb.statcast(start_dt = '2023-03-29', end_dt = '2023-10-02')\n",
    "#Using pybaseball, I downloaded all pitches thrown this season."
   ]
  },
  {
   "cell_type": "markdown",
   "id": "7a858e96",
   "metadata": {},
   "source": [
    "# Cleaning Data\n",
    "\n",
    "### To clean the data, I edited batted ball information, such as launch angle, to make the result that produces the most hits be the highest number. This is done so that when the machine learning models are interpreting the data, they can easily see that the higher the number, the more likely the result is a hit."
   ]
  },
  {
   "cell_type": "code",
   "execution_count": 3,
   "id": "4f68dd8b",
   "metadata": {},
   "outputs": [],
   "source": [
    "thisYearBBE = thisYearPitches.loc[thisYearPitches['description'] == 'hit_into_play']\n",
    "thisYearBBE = thisYearBBE.loc[thisYearBBE['events'] != 'catcher_interf']\n",
    "#I kept all occurences of the ball being hit into play, not including catcher's interference because it doesn't produce batted ball data."
   ]
  },
  {
   "cell_type": "code",
   "execution_count": 4,
   "id": "1e613964",
   "metadata": {},
   "outputs": [],
   "source": [
    "thisYearBBE = thisYearBBE.drop(['release_speed'], axis=1)\n",
    "thisYearBBE = thisYearBBE.drop(['release_pos_x'], axis=1)\n",
    "thisYearBBE = thisYearBBE.drop(['release_pos_z'], axis=1)\n",
    "thisYearBBE = thisYearBBE.drop(['spin_dir'], axis=1) \n",
    "thisYearBBE = thisYearBBE.drop(['fld_score'], axis=1) \n",
    "thisYearBBE = thisYearBBE.drop(['post_away_score'], axis=1) \n",
    "thisYearBBE = thisYearBBE.drop(['post_home_score'], axis=1) \n",
    "thisYearBBE = thisYearBBE.drop(['post_bat_score'], axis=1) \n",
    "thisYearBBE = thisYearBBE.drop(['post_fld_score'], axis=1) \n",
    "thisYearBBE = thisYearBBE.drop(['if_fielding_alignment'], axis=1) \n",
    "thisYearBBE = thisYearBBE.drop(['of_fielding_alignment'], axis=1) \n",
    "thisYearBBE = thisYearBBE.drop(['spin_axis'], axis=1) \n",
    "thisYearBBE = thisYearBBE.drop(['delta_home_win_exp'], axis=1) \n",
    "thisYearBBE = thisYearBBE.drop(['delta_run_exp'], axis=1)\n",
    "thisYearBBE = thisYearBBE.drop(['spin_rate_deprecated'], axis=1) \n",
    "thisYearBBE = thisYearBBE.drop(['break_angle_deprecated'], axis=1) \n",
    "thisYearBBE = thisYearBBE.drop(['break_length_deprecated'], axis=1) \n",
    "thisYearBBE = thisYearBBE.drop(['des'], axis=1) \n",
    "thisYearBBE = thisYearBBE.drop(['woba_denom'], axis=1) \n",
    "thisYearBBE = thisYearBBE.drop(['babip_value'], axis=1) \n",
    "thisYearBBE = thisYearBBE.drop(['iso_value'], axis=1)\n",
    "thisYearBBE = thisYearBBE.drop(['at_bat_number'], axis=1) \n",
    "thisYearBBE = thisYearBBE.drop(['pitch_number'], axis=1) \n",
    "thisYearBBE = thisYearBBE.drop(['home_score'], axis=1) \n",
    "thisYearBBE = thisYearBBE.drop(['away_score'], axis=1) \n",
    "thisYearBBE = thisYearBBE.drop(['bat_score'], axis=1)\n",
    "thisYearBBE = thisYearBBE.drop(['fielder_2'], axis=1) \n",
    "thisYearBBE = thisYearBBE.drop(['fielder_3'], axis=1) \n",
    "thisYearBBE = thisYearBBE.drop(['fielder_4'], axis=1)\n",
    "thisYearBBE = thisYearBBE.drop(['fielder_5'], axis=1) \n",
    "thisYearBBE = thisYearBBE.drop(['fielder_6'], axis=1) \n",
    "thisYearBBE = thisYearBBE.drop(['fielder_7'], axis=1) \n",
    "thisYearBBE = thisYearBBE.drop(['fielder_8'], axis=1) \n",
    "thisYearBBE = thisYearBBE.drop(['fielder_9'], axis=1) \n",
    "thisYearBBE = thisYearBBE.drop(['release_pos_y'], axis=1)\n",
    "thisYearBBE = thisYearBBE.drop(['estimated_woba_using_speedangle'], axis=1) \n",
    "thisYearBBE = thisYearBBE.drop(['woba_value'], axis=1) \n",
    "thisYearBBE = thisYearBBE.drop(['type'], axis=1) \n",
    "thisYearBBE = thisYearBBE.drop(['hit_location'], axis=1) \n",
    "thisYearBBE = thisYearBBE.drop(['bb_type'], axis=1) \n",
    "thisYearBBE = thisYearBBE.drop(['balls'], axis=1) \n",
    "thisYearBBE = thisYearBBE.drop(['strikes'], axis=1) \n",
    "thisYearBBE = thisYearBBE.drop(['hit_distance_sc'], axis=1) \n",
    "thisYearBBE = thisYearBBE.drop(['effective_speed'], axis=1) \n",
    "thisYearBBE = thisYearBBE.drop(['release_spin_rate'], axis=1) \n",
    "thisYearBBE = thisYearBBE.drop(['release_extension'], axis=1) \n",
    "thisYearBBE = thisYearBBE.drop(['game_pk'], axis=1) \n",
    "thisYearBBE = thisYearBBE.drop(['pitcher.1'], axis=1) \n",
    "thisYearBBE = thisYearBBE.drop(['fielder_2.1'], axis=1) \n",
    "thisYearBBE = thisYearBBE.drop(['game_year'], axis=1) \n",
    "thisYearBBE = thisYearBBE.drop(['pfx_x'], axis=1) \n",
    "thisYearBBE = thisYearBBE.drop(['pfx_z'], axis=1) \n",
    "thisYearBBE = thisYearBBE.drop(['plate_x'], axis=1) \n",
    "thisYearBBE = thisYearBBE.drop(['plate_z'], axis=1) \n",
    "thisYearBBE = thisYearBBE.drop(['vy0'], axis=1) \n",
    "thisYearBBE = thisYearBBE.drop(['vz0'], axis=1) \n",
    "thisYearBBE = thisYearBBE.drop(['ax'], axis=1) \n",
    "thisYearBBE = thisYearBBE.drop(['ay'], axis=1) \n",
    "thisYearBBE = thisYearBBE.drop(['az'], axis=1) \n",
    "thisYearBBE = thisYearBBE.drop(['sz_top'], axis=1) \n",
    "thisYearBBE = thisYearBBE.drop(['sz_bot'], axis=1) \n",
    "thisYearBBE = thisYearBBE.drop(['on_3b'], axis=1) \n",
    "thisYearBBE = thisYearBBE.drop(['on_2b'], axis=1) \n",
    "thisYearBBE = thisYearBBE.drop(['on_1b'], axis=1) \n",
    "thisYearBBE = thisYearBBE.drop(['outs_when_up'], axis=1) \n",
    "thisYearBBE = thisYearBBE.drop(['inning'], axis=1) \n",
    "thisYearBBE = thisYearBBE.drop(['hc_x'], axis=1) \n",
    "thisYearBBE = thisYearBBE.drop(['hc_y'], axis=1) \n",
    "thisYearBBE = thisYearBBE.drop(['tfs_deprecated'], axis=1) \n",
    "thisYearBBE = thisYearBBE.drop(['tfs_zulu_deprecated'], axis=1) \n",
    "thisYearBBE = thisYearBBE.drop(['umpire'], axis=1) \n",
    "thisYearBBE = thisYearBBE.drop(['sv_id'], axis=1) \n",
    "thisYearBBE = thisYearBBE.drop(['vx0'], axis=1) \n",
    "thisYearBBE = thisYearBBE.drop(['inning_topbot'], axis=1) \n",
    "thisYearBBE = thisYearBBE.drop(['game_type'], axis=1) \n",
    "thisYearBBE = thisYearBBE.drop(['stand'], axis=1) \n",
    "thisYearBBE = thisYearBBE.drop(['p_throws'], axis=1) \n",
    "thisYearBBE = thisYearBBE.drop(['home_team'], axis=1) \n",
    "thisYearBBE = thisYearBBE.drop(['away_team'], axis=1) \n",
    "#This drops all files not directly related with player association, batted ball information, or pitch type."
   ]
  },
  {
   "cell_type": "code",
   "execution_count": 5,
   "id": "48b4248e",
   "metadata": {},
   "outputs": [],
   "source": [
    "BBE = pd.DataFrame(thisYearBBE)"
   ]
  },
  {
   "cell_type": "code",
   "execution_count": 6,
   "id": "05a8e465",
   "metadata": {},
   "outputs": [],
   "source": [
    "BBE = BBE.dropna(how = 'any')"
   ]
  },
  {
   "cell_type": "code",
   "execution_count": 7,
   "id": "49c81fd7",
   "metadata": {},
   "outputs": [
    {
     "data": {
      "text/plain": [
       "0    83106\n",
       "1    40753\n",
       "Name: events, dtype: int64"
      ]
     },
     "execution_count": 7,
     "metadata": {},
     "output_type": "execute_result"
    }
   ],
   "source": [
    "BBE['events'] = BBE['events'].replace(['single'], 1)\n",
    "BBE['events'] = BBE['events'].replace(['double'], 1)\n",
    "BBE['events'] = BBE['events'].replace(['triple'], 1)\n",
    "BBE['events'] = BBE['events'].replace(['home_run'], 1)\n",
    "BBE['events'] = BBE['events'].replace(['field_out'], 0)\n",
    "BBE['events'] = BBE['events'].replace(['field_error'], 0)\n",
    "BBE['events'] = BBE['events'].replace(['grounded_into_double_play'], 0)\n",
    "BBE['events'] = BBE['events'].replace(['force_out'], 0)\n",
    "BBE['events'] = BBE['events'].replace(['sac_fly'], 0)\n",
    "BBE['events'] = BBE['events'].replace(['sac_bunt'], 0)\n",
    "BBE['events'] = BBE['events'].replace(['double_play'], 0)\n",
    "BBE['events'] = BBE['events'].replace(['fielders_choice'], 0)\n",
    "BBE['events'] = BBE['events'].replace(['fielders_choice_out'], 0)\n",
    "BBE['events'] = BBE['events'].replace(['sac_fly_double_play'], 0)\n",
    "BBE['events'] = BBE['events'].replace(['triple_play'], 0)\n",
    "BBE['events'] = BBE['events'].replace(['sac_bunt_double_play'], 0)\n",
    "BBE.events.value_counts()\n",
    "#This changes all hits into a 1 and all outs in 0 so that machine learning models can properly train themselves."
   ]
  },
  {
   "cell_type": "code",
   "execution_count": 8,
   "id": "8cf11c5c",
   "metadata": {},
   "outputs": [],
   "source": [
    "BBE = BBE[['pitch_type', 'game_date', 'player_name', 'batter', 'pitcher', 'description', 'pitch_name', 'launch_speed', 'launch_angle', 'events', 'zone', 'launch_speed_angle', 'estimated_ba_using_speedangle']]"
   ]
  },
  {
   "cell_type": "code",
   "execution_count": 9,
   "id": "8386c5a1",
   "metadata": {},
   "outputs": [],
   "source": [
    "encoder = OneHotEncoder()\n",
    "encoded_df = pd.DataFrame(encoder.fit_transform(BBE[['launch_speed_angle']]).toarray())\n",
    "BBE = BBE.join(encoded_df)\n",
    "#This creates 6 new columns that have information about how well a ball is hit, but as binary numbers."
   ]
  },
  {
   "cell_type": "code",
   "execution_count": 10,
   "id": "5d84cbb6",
   "metadata": {},
   "outputs": [],
   "source": [
    "BBE.columns = ['pitch_type', 'game_date', 'player_name', 'batter', 'pitcher', 'description', 'pitch_name', 'launch_speed', 'launch_angle', 'events', 'zone', 'launch_speed_angle', 'estimated_ba_using_speedangle', 'weak_contact', 'topped', 'under', 'flare', 'solid_contact', 'barreled']"
   ]
  },
  {
   "cell_type": "code",
   "execution_count": 11,
   "id": "a4b23795",
   "metadata": {},
   "outputs": [],
   "source": [
    "BBE['launch_speed_angle'] = BBE['launch_speed_angle'].replace([1], 7)\n",
    "BBE['launch_speed_angle'] = BBE['launch_speed_angle'].replace([3], 1)\n",
    "BBE['launch_speed_angle'] = BBE['launch_speed_angle'].replace([7], 3)\n",
    "BBE['launch_speed_angle'] = BBE['launch_speed_angle'].replace([4], 7)\n",
    "BBE['launch_speed_angle'] = BBE['launch_speed_angle'].replace([5], 4)\n",
    "BBE['launch_speed_angle'] = BBE['launch_speed_angle'].replace([7], 5)\n",
    "#This reorders the column so that the outcomes that the numbers are sorted by their likeliness to produce a hit."
   ]
  },
  {
   "cell_type": "code",
   "execution_count": 12,
   "id": "9575ffb3",
   "metadata": {},
   "outputs": [],
   "source": [
    "for x in range(60,91):\n",
    "    if x in BBE['launch_angle'].unique():\n",
    "        BBE['launch_angle'] = BBE['launch_angle'].replace([x], -90)\n",
    "for x in range(50,60):\n",
    "    if x in BBE['launch_angle'].unique():\n",
    "        BBE['launch_angle'] = BBE['launch_angle'].replace([x], -85)\n",
    "for x in range(40,50):\n",
    "    if x in BBE['launch_angle'].unique():\n",
    "        BBE['launch_angle'] = BBE['launch_angle'].replace([x], -75)\n",
    "for x in range(38,40):\n",
    "    if x in BBE['launch_angle'].unique():\n",
    "        BBE['launch_angle'] = BBE['launch_angle'].replace([x], -50)\n",
    "for x in range(14,38):\n",
    "    if x in BBE['launch_angle'].unique():\n",
    "        diff = x - 13\n",
    "        place = 13 - diff\n",
    "        BBE['launch_angle'] = BBE['launch_angle'].replace([x], place)\n",
    "        \n",
    "#This makes the launch angle with the best hit percentage, 13, be the highest number, and all numbers above are changed to negative numbers that produce similar hit results."
   ]
  },
  {
   "cell_type": "code",
   "execution_count": 13,
   "id": "5126a918",
   "metadata": {},
   "outputs": [],
   "source": [
    "for x in range(1, 15):\n",
    "    if x in BBE['zone'].unique():\n",
    "        if x <= 9:\n",
    "            BBE['zone'] = BBE['zone'].replace([x], 1)\n",
    "        else:\n",
    "            BBE['zone'] = BBE['zone'].replace([x], 0)\n",
    "            \n",
    "#This converts the zone column into whether or not the pitch was in the zone."
   ]
  },
  {
   "cell_type": "code",
   "execution_count": 14,
   "id": "3219198c",
   "metadata": {},
   "outputs": [],
   "source": [
    "Download = BBE[['player_name', 'batter', 'pitcher', 'launch_speed', 'launch_angle', 'launch_speed_angle', 'zone', 'events']]\n",
    "#Download.to_csv('C:/Users/aveng/Downloads/2023AdjustedRegularSeasonBBE.csv')\n",
    "#This is how I downloaded the edited data to use in the shiny program."
   ]
  },
  {
   "cell_type": "markdown",
   "id": "299356a5",
   "metadata": {},
   "source": [
    "# Testing Data\n",
    "\n",
    "### To test the data, I used different combinations of features across 3 different machine learning algorithms to see which combination of the two produced the most accurate results. Logistic regression achieved almost an 80% accuracy, up from just above 60% on unedited data on my first attempt, while extra trees and random forest were mostly around 76%. "
   ]
  },
  {
   "cell_type": "code",
   "execution_count": 15,
   "id": "5fbd6c39",
   "metadata": {},
   "outputs": [],
   "source": [
    "#scale = BBE[['launch_speed', 'launch_angle', 'launch_speed_angle', 'zone', 'weak_contact', 'topped', 'under', 'flare', 'solid_contact', 'barreled']]\n",
    "scale = BBE[['launch_speed', 'launch_angle', 'launch_speed_angle', 'zone']]\n",
    "#cols = BBE[['launch_speed', 'launch_angle', 'launch_speed_angle', 'weak_contact', 'topped', 'under', 'flare', 'solid_contact', 'barreled']]\n",
    "\n",
    "#Here I tested out different combinations of features to see which brought the best results."
   ]
  },
  {
   "cell_type": "code",
   "execution_count": 16,
   "id": "bc374f42",
   "metadata": {},
   "outputs": [],
   "source": [
    "scaler = StandardScaler()\n",
    "scaled_data = scaler.fit_transform(scale)\n",
    "scaled_BBE = pd.DataFrame(scaled_data, columns = scale.columns)"
   ]
  },
  {
   "cell_type": "code",
   "execution_count": 17,
   "id": "c820e4ee",
   "metadata": {},
   "outputs": [],
   "source": [
    "X = scaled_BBE\n",
    "y = BBE['events']"
   ]
  },
  {
   "cell_type": "code",
   "execution_count": 18,
   "id": "580833d6",
   "metadata": {},
   "outputs": [],
   "source": [
    "X_train, X_test, y_train, y_test = train_test_split(X, y, test_size = .2, random_state=5)\n",
    "#I used sklearn's train test split model to easily test different machine learning models."
   ]
  },
  {
   "cell_type": "code",
   "execution_count": 19,
   "id": "118f620b",
   "metadata": {},
   "outputs": [
    {
     "name": "stdout",
     "output_type": "stream",
     "text": [
      "78.71387 %\n"
     ]
    }
   ],
   "source": [
    "lr = LogisticRegression(class_weight = 'balanced')\n",
    "lr.fit(X_train, y_train);\n",
    "y_pred = lr.predict(X_test)\n",
    "print(round(accuracy_score(y_test, y_pred)*100,5), \"%\")\n",
    "\n",
    "#This is the model I ended up using because it produced the most accurate results."
   ]
  },
  {
   "cell_type": "code",
   "execution_count": 20,
   "id": "d7a3432b",
   "metadata": {},
   "outputs": [
    {
     "data": {
      "text/plain": [
       "0.7871387049895043"
      ]
     },
     "execution_count": 20,
     "metadata": {},
     "output_type": "execute_result"
    }
   ],
   "source": [
    "pipe = make_pipeline(StandardScaler(), LogisticRegression(class_weight = 'balanced'))\n",
    "pipe.fit(X_train, y_train)\n",
    "pipe.score(X_test, y_test)\n",
    "#This is the same model as the one above, the output is just in a different format."
   ]
  },
  {
   "cell_type": "code",
   "execution_count": 21,
   "id": "6bf93bc4",
   "metadata": {},
   "outputs": [
    {
     "data": {
      "text/plain": [
       "array([[13235,  3359],\n",
       "       [ 1914,  6264]], dtype=int64)"
      ]
     },
     "execution_count": 21,
     "metadata": {},
     "output_type": "execute_result"
    }
   ],
   "source": [
    "cnf_matrix = metrics.confusion_matrix(y_test, y_pred)\n",
    "cnf_matrix"
   ]
  },
  {
   "cell_type": "code",
   "execution_count": 22,
   "id": "600504fc",
   "metadata": {},
   "outputs": [
    {
     "data": {
      "text/plain": [
       "Text(0.5, 257.44, 'Predicted label')"
      ]
     },
     "execution_count": 22,
     "metadata": {},
     "output_type": "execute_result"
    },
    {
     "data": {
      "image/png": "[encoded data removed]",
      "text/plain": [
       "<Figure size 432x288 with 2 Axes>"
      ]
     },
     "metadata": {
      "needs_background": "light"
     },
     "output_type": "display_data"
    }
   ],
   "source": [
    "class_names=[0,1]\n",
    "fig, ax = plt.subplots()\n",
    "tick_marks = np.arange(len(class_names))\n",
    "plt.xticks(tick_marks, class_names)\n",
    "plt.yticks(tick_marks, class_names)\n",
    "sns.heatmap(pd.DataFrame(cnf_matrix), annot=True, cmap=\"YlGnBu\" ,fmt='g')\n",
    "ax.xaxis.set_label_position(\"top\")\n",
    "plt.tight_layout()\n",
    "plt.title('Confusion matrix', y=1.1)\n",
    "plt.ylabel('Actual label')\n",
    "plt.xlabel('Predicted label')\n",
    "#This prints the confusion matrix made above to see where correct and incorrect predictions occur."
   ]
  },
  {
   "cell_type": "code",
   "execution_count": 23,
   "id": "e6801083",
   "metadata": {},
   "outputs": [
    {
     "name": "stdout",
     "output_type": "stream",
     "text": [
      "              precision    recall  f1-score   support\n",
      "\n",
      "         out       0.87      0.80      0.83     16594\n",
      "         hit       0.65      0.77      0.70      8178\n",
      "\n",
      "    accuracy                           0.79     24772\n",
      "   macro avg       0.76      0.78      0.77     24772\n",
      "weighted avg       0.80      0.79      0.79     24772\n",
      "\n"
     ]
    }
   ],
   "source": [
    "target_names = ['out', 'hit']\n",
    "print(classification_report(y_test, y_pred, target_names=target_names))\n",
    "#Here we see the accuracy of each outcome. The algorithm predicts that an out will be a hit far more than any other error,\n",
    "#this is where most improvements will likely be made."
   ]
  },
  {
   "cell_type": "code",
   "execution_count": 24,
   "id": "3373e01f",
   "metadata": {},
   "outputs": [
    {
     "name": "stdout",
     "output_type": "stream",
     "text": [
      "75.85177 %\n"
     ]
    }
   ],
   "source": [
    "etf = ExtraTreesClassifier(n_estimators = 100)\n",
    "etf.fit(X_train, y_train)\n",
    "feature_importance = etf.feature_importances_\n",
    "feature_importance_normalized = np.std([tree.feature_importances_ for tree in etf.estimators_], axis = 0)\n",
    "etf_pred = etf.predict(X_test)\n",
    "print(round(accuracy_score(y_test, etf_pred)*100,5), \"%\")\n",
    "#Testing the extra trees model."
   ]
  },
  {
   "cell_type": "code",
   "execution_count": 25,
   "id": "7dbe3007",
   "metadata": {},
   "outputs": [
    {
     "data": {
      "image/png": "[encoded data removed]",
      "text/plain": [
       "<Figure size 432x288 with 1 Axes>"
      ]
     },
     "metadata": {
      "needs_background": "light"
     },
     "output_type": "display_data"
    }
   ],
   "source": [
    "plt.bar(X.columns, feature_importance_normalized)\n",
    "plt.xlabel('Feature Labels')\n",
    "plt.ylabel('Feature Importances')\n",
    "plt.title('Comparison of different Feature Importances')\n",
    "plt.show()\n",
    "#Seeing which features the extra tree models values the most."
   ]
  },
  {
   "cell_type": "code",
   "execution_count": 26,
   "id": "168371a2",
   "metadata": {},
   "outputs": [
    {
     "name": "stdout",
     "output_type": "stream",
     "text": [
      "75.95673 %\n"
     ]
    }
   ],
   "source": [
    "rf = RandomForestClassifier(n_estimators=100)\n",
    "rf.fit(X_train,y_train)\n",
    "rf_prediction = rf.predict(X_test)\n",
    "print(round(accuracy_score(y_test, rf_prediction)*100,5), \"%\")\n",
    "#Testing the random forest model."
   ]
  },
  {
   "cell_type": "code",
   "execution_count": 27,
   "id": "1ae44e97",
   "metadata": {},
   "outputs": [
    {
     "name": "stdout",
     "output_type": "stream",
     "text": [
      "[0.45573277 0.23356861 0.30180664 0.00889197]\n"
     ]
    }
   ],
   "source": [
    "from sklearn.feature_selection import SelectFromModel\n",
    "sfm = SelectFromModel(rf)\n",
    "sfm.fit(X_train, y_train)\n",
    "print(sfm.estimator_.feature_importances_)\n",
    "#Seeing how much the random forest model values each feature."
   ]
  },
  {
   "cell_type": "code",
   "execution_count": 29,
   "id": "2090adf9",
   "metadata": {},
   "outputs": [
    {
     "data": {
      "text/html": [
       "<div>\n",
       "<style scoped>\n",
       "    .dataframe tbody tr th:only-of-type {\n",
       "        vertical-align: middle;\n",
       "    }\n",
       "\n",
       "    .dataframe tbody tr th {\n",
       "        vertical-align: top;\n",
       "    }\n",
       "\n",
       "    .dataframe thead th {\n",
       "        text-align: right;\n",
       "    }\n",
       "</style>\n",
       "<table border=\"1\" class=\"dataframe\">\n",
       "  <thead>\n",
       "    <tr style=\"text-align: right;\">\n",
       "      <th></th>\n",
       "      <th>batter</th>\n",
       "      <th>pitcher</th>\n",
       "      <th>launch_speed</th>\n",
       "      <th>launch_angle</th>\n",
       "      <th>events</th>\n",
       "      <th>zone</th>\n",
       "      <th>launch_speed_angle</th>\n",
       "      <th>estimated_ba_using_speedangle</th>\n",
       "      <th>weak_contact</th>\n",
       "      <th>topped</th>\n",
       "      <th>under</th>\n",
       "      <th>flare</th>\n",
       "      <th>solid_contact</th>\n",
       "      <th>barreled</th>\n",
       "    </tr>\n",
       "  </thead>\n",
       "  <tbody>\n",
       "    <tr>\n",
       "      <th>batter</th>\n",
       "      <td>1.000000</td>\n",
       "      <td>0.004468</td>\n",
       "      <td>-0.007483</td>\n",
       "      <td>0.006215</td>\n",
       "      <td>0.004644</td>\n",
       "      <td>0.006084</td>\n",
       "      <td>0.005706</td>\n",
       "      <td>0.002638</td>\n",
       "      <td>-0.008178</td>\n",
       "      <td>0.000796</td>\n",
       "      <td>-0.000573</td>\n",
       "      <td>-0.000520</td>\n",
       "      <td>0.004718</td>\n",
       "      <td>0.002969</td>\n",
       "    </tr>\n",
       "    <tr>\n",
       "      <th>pitcher</th>\n",
       "      <td>0.004468</td>\n",
       "      <td>1.000000</td>\n",
       "      <td>0.010397</td>\n",
       "      <td>-0.000719</td>\n",
       "      <td>0.003068</td>\n",
       "      <td>0.017442</td>\n",
       "      <td>0.001681</td>\n",
       "      <td>-0.002064</td>\n",
       "      <td>-0.003542</td>\n",
       "      <td>-0.002247</td>\n",
       "      <td>0.003605</td>\n",
       "      <td>0.001312</td>\n",
       "      <td>-0.001030</td>\n",
       "      <td>-0.000277</td>\n",
       "    </tr>\n",
       "    <tr>\n",
       "      <th>launch_speed</th>\n",
       "      <td>-0.007483</td>\n",
       "      <td>0.010397</td>\n",
       "      <td>1.000000</td>\n",
       "      <td>0.324283</td>\n",
       "      <td>0.254781</td>\n",
       "      <td>0.290118</td>\n",
       "      <td>0.366079</td>\n",
       "      <td>0.395952</td>\n",
       "      <td>-0.001578</td>\n",
       "      <td>0.000400</td>\n",
       "      <td>0.004311</td>\n",
       "      <td>-0.004053</td>\n",
       "      <td>-0.000970</td>\n",
       "      <td>0.000842</td>\n",
       "    </tr>\n",
       "    <tr>\n",
       "      <th>launch_angle</th>\n",
       "      <td>0.006215</td>\n",
       "      <td>-0.000719</td>\n",
       "      <td>0.324283</td>\n",
       "      <td>1.000000</td>\n",
       "      <td>0.396281</td>\n",
       "      <td>0.016533</td>\n",
       "      <td>0.601183</td>\n",
       "      <td>0.626811</td>\n",
       "      <td>-0.003064</td>\n",
       "      <td>-0.003208</td>\n",
       "      <td>-0.000952</td>\n",
       "      <td>0.002623</td>\n",
       "      <td>0.001577</td>\n",
       "      <td>0.004120</td>\n",
       "    </tr>\n",
       "    <tr>\n",
       "      <th>events</th>\n",
       "      <td>0.004644</td>\n",
       "      <td>0.003068</td>\n",
       "      <td>0.254781</td>\n",
       "      <td>0.396281</td>\n",
       "      <td>1.000000</td>\n",
       "      <td>0.052747</td>\n",
       "      <td>0.549575</td>\n",
       "      <td>0.634545</td>\n",
       "      <td>-0.004496</td>\n",
       "      <td>0.000001</td>\n",
       "      <td>-0.001134</td>\n",
       "      <td>-0.000007</td>\n",
       "      <td>0.000353</td>\n",
       "      <td>0.005206</td>\n",
       "    </tr>\n",
       "    <tr>\n",
       "      <th>zone</th>\n",
       "      <td>0.006084</td>\n",
       "      <td>0.017442</td>\n",
       "      <td>0.290118</td>\n",
       "      <td>0.016533</td>\n",
       "      <td>0.052747</td>\n",
       "      <td>1.000000</td>\n",
       "      <td>0.073437</td>\n",
       "      <td>0.082205</td>\n",
       "      <td>0.001381</td>\n",
       "      <td>-0.001872</td>\n",
       "      <td>-0.000925</td>\n",
       "      <td>0.002771</td>\n",
       "      <td>-0.001858</td>\n",
       "      <td>0.000838</td>\n",
       "    </tr>\n",
       "    <tr>\n",
       "      <th>launch_speed_angle</th>\n",
       "      <td>0.005706</td>\n",
       "      <td>0.001681</td>\n",
       "      <td>0.366079</td>\n",
       "      <td>0.601183</td>\n",
       "      <td>0.549575</td>\n",
       "      <td>0.073437</td>\n",
       "      <td>1.000000</td>\n",
       "      <td>0.864685</td>\n",
       "      <td>-0.002291</td>\n",
       "      <td>-0.000478</td>\n",
       "      <td>-0.002534</td>\n",
       "      <td>-0.000874</td>\n",
       "      <td>0.002775</td>\n",
       "      <td>0.005840</td>\n",
       "    </tr>\n",
       "    <tr>\n",
       "      <th>estimated_ba_using_speedangle</th>\n",
       "      <td>0.002638</td>\n",
       "      <td>-0.002064</td>\n",
       "      <td>0.395952</td>\n",
       "      <td>0.626811</td>\n",
       "      <td>0.634545</td>\n",
       "      <td>0.082205</td>\n",
       "      <td>0.864685</td>\n",
       "      <td>1.000000</td>\n",
       "      <td>-0.000985</td>\n",
       "      <td>0.000763</td>\n",
       "      <td>-0.000911</td>\n",
       "      <td>-0.003082</td>\n",
       "      <td>0.001776</td>\n",
       "      <td>0.004338</td>\n",
       "    </tr>\n",
       "    <tr>\n",
       "      <th>weak_contact</th>\n",
       "      <td>-0.008178</td>\n",
       "      <td>-0.003542</td>\n",
       "      <td>-0.001578</td>\n",
       "      <td>-0.003064</td>\n",
       "      <td>-0.004496</td>\n",
       "      <td>0.001381</td>\n",
       "      <td>-0.002291</td>\n",
       "      <td>-0.000985</td>\n",
       "      <td>1.000000</td>\n",
       "      <td>-0.157967</td>\n",
       "      <td>-0.133885</td>\n",
       "      <td>-0.127911</td>\n",
       "      <td>-0.055524</td>\n",
       "      <td>-0.066299</td>\n",
       "    </tr>\n",
       "    <tr>\n",
       "      <th>topped</th>\n",
       "      <td>0.000796</td>\n",
       "      <td>-0.002247</td>\n",
       "      <td>0.000400</td>\n",
       "      <td>-0.003208</td>\n",
       "      <td>0.000001</td>\n",
       "      <td>-0.001872</td>\n",
       "      <td>-0.000478</td>\n",
       "      <td>0.000763</td>\n",
       "      <td>-0.157967</td>\n",
       "      <td>1.000000</td>\n",
       "      <td>-0.404723</td>\n",
       "      <td>-0.386664</td>\n",
       "      <td>-0.167843</td>\n",
       "      <td>-0.200415</td>\n",
       "    </tr>\n",
       "    <tr>\n",
       "      <th>under</th>\n",
       "      <td>-0.000573</td>\n",
       "      <td>0.003605</td>\n",
       "      <td>0.004311</td>\n",
       "      <td>-0.000952</td>\n",
       "      <td>-0.001134</td>\n",
       "      <td>-0.000925</td>\n",
       "      <td>-0.002534</td>\n",
       "      <td>-0.000911</td>\n",
       "      <td>-0.133885</td>\n",
       "      <td>-0.404723</td>\n",
       "      <td>1.000000</td>\n",
       "      <td>-0.327718</td>\n",
       "      <td>-0.142256</td>\n",
       "      <td>-0.169862</td>\n",
       "    </tr>\n",
       "    <tr>\n",
       "      <th>flare</th>\n",
       "      <td>-0.000520</td>\n",
       "      <td>0.001312</td>\n",
       "      <td>-0.004053</td>\n",
       "      <td>0.002623</td>\n",
       "      <td>-0.000007</td>\n",
       "      <td>0.002771</td>\n",
       "      <td>-0.000874</td>\n",
       "      <td>-0.003082</td>\n",
       "      <td>-0.127911</td>\n",
       "      <td>-0.386664</td>\n",
       "      <td>-0.327718</td>\n",
       "      <td>1.000000</td>\n",
       "      <td>-0.135908</td>\n",
       "      <td>-0.162283</td>\n",
       "    </tr>\n",
       "    <tr>\n",
       "      <th>solid_contact</th>\n",
       "      <td>0.004718</td>\n",
       "      <td>-0.001030</td>\n",
       "      <td>-0.000970</td>\n",
       "      <td>0.001577</td>\n",
       "      <td>0.000353</td>\n",
       "      <td>-0.001858</td>\n",
       "      <td>0.002775</td>\n",
       "      <td>0.001776</td>\n",
       "      <td>-0.055524</td>\n",
       "      <td>-0.167843</td>\n",
       "      <td>-0.142256</td>\n",
       "      <td>-0.135908</td>\n",
       "      <td>1.000000</td>\n",
       "      <td>-0.070444</td>\n",
       "    </tr>\n",
       "    <tr>\n",
       "      <th>barreled</th>\n",
       "      <td>0.002969</td>\n",
       "      <td>-0.000277</td>\n",
       "      <td>0.000842</td>\n",
       "      <td>0.004120</td>\n",
       "      <td>0.005206</td>\n",
       "      <td>0.000838</td>\n",
       "      <td>0.005840</td>\n",
       "      <td>0.004338</td>\n",
       "      <td>-0.066299</td>\n",
       "      <td>-0.200415</td>\n",
       "      <td>-0.169862</td>\n",
       "      <td>-0.162283</td>\n",
       "      <td>-0.070444</td>\n",
       "      <td>1.000000</td>\n",
       "    </tr>\n",
       "  </tbody>\n",
       "</table>\n",
       "</div>"
      ],
      "text/plain": [
       "                                 batter   pitcher  launch_speed  launch_angle  \\\n",
       "batter                         1.000000  0.004468     -0.007483      0.006215   \n",
       "pitcher                        0.004468  1.000000      0.010397     -0.000719   \n",
       "launch_speed                  -0.007483  0.010397      1.000000      0.324283   \n",
       "launch_angle                   0.006215 -0.000719      0.324283      1.000000   \n",
       "events                         0.004644  0.003068      0.254781      0.396281   \n",
       "zone                           0.006084  0.017442      0.290118      0.016533   \n",
       "launch_speed_angle             0.005706  0.001681      0.366079      0.601183   \n",
       "estimated_ba_using_speedangle  0.002638 -0.002064      0.395952      0.626811   \n",
       "weak_contact                  -0.008178 -0.003542     -0.001578     -0.003064   \n",
       "topped                         0.000796 -0.002247      0.000400     -0.003208   \n",
       "under                         -0.000573  0.003605      0.004311     -0.000952   \n",
       "flare                         -0.000520  0.001312     -0.004053      0.002623   \n",
       "solid_contact                  0.004718 -0.001030     -0.000970      0.001577   \n",
       "barreled                       0.002969 -0.000277      0.000842      0.004120   \n",
       "\n",
       "                                 events      zone  launch_speed_angle  \\\n",
       "batter                         0.004644  0.006084            0.005706   \n",
       "pitcher                        0.003068  0.017442            0.001681   \n",
       "launch_speed                   0.254781  0.290118            0.366079   \n",
       "launch_angle                   0.396281  0.016533            0.601183   \n",
       "events                         1.000000  0.052747            0.549575   \n",
       "zone                           0.052747  1.000000            0.073437   \n",
       "launch_speed_angle             0.549575  0.073437            1.000000   \n",
       "estimated_ba_using_speedangle  0.634545  0.082205            0.864685   \n",
       "weak_contact                  -0.004496  0.001381           -0.002291   \n",
       "topped                         0.000001 -0.001872           -0.000478   \n",
       "under                         -0.001134 -0.000925           -0.002534   \n",
       "flare                         -0.000007  0.002771           -0.000874   \n",
       "solid_contact                  0.000353 -0.001858            0.002775   \n",
       "barreled                       0.005206  0.000838            0.005840   \n",
       "\n",
       "                               estimated_ba_using_speedangle  weak_contact  \\\n",
       "batter                                              0.002638     -0.008178   \n",
       "pitcher                                            -0.002064     -0.003542   \n",
       "launch_speed                                        0.395952     -0.001578   \n",
       "launch_angle                                        0.626811     -0.003064   \n",
       "events                                              0.634545     -0.004496   \n",
       "zone                                                0.082205      0.001381   \n",
       "launch_speed_angle                                  0.864685     -0.002291   \n",
       "estimated_ba_using_speedangle                       1.000000     -0.000985   \n",
       "weak_contact                                       -0.000985      1.000000   \n",
       "topped                                              0.000763     -0.157967   \n",
       "under                                              -0.000911     -0.133885   \n",
       "flare                                              -0.003082     -0.127911   \n",
       "solid_contact                                       0.001776     -0.055524   \n",
       "barreled                                            0.004338     -0.066299   \n",
       "\n",
       "                                 topped     under     flare  solid_contact  \\\n",
       "batter                         0.000796 -0.000573 -0.000520       0.004718   \n",
       "pitcher                       -0.002247  0.003605  0.001312      -0.001030   \n",
       "launch_speed                   0.000400  0.004311 -0.004053      -0.000970   \n",
       "launch_angle                  -0.003208 -0.000952  0.002623       0.001577   \n",
       "events                         0.000001 -0.001134 -0.000007       0.000353   \n",
       "zone                          -0.001872 -0.000925  0.002771      -0.001858   \n",
       "launch_speed_angle            -0.000478 -0.002534 -0.000874       0.002775   \n",
       "estimated_ba_using_speedangle  0.000763 -0.000911 -0.003082       0.001776   \n",
       "weak_contact                  -0.157967 -0.133885 -0.127911      -0.055524   \n",
       "topped                         1.000000 -0.404723 -0.386664      -0.167843   \n",
       "under                         -0.404723  1.000000 -0.327718      -0.142256   \n",
       "flare                         -0.386664 -0.327718  1.000000      -0.135908   \n",
       "solid_contact                 -0.167843 -0.142256 -0.135908       1.000000   \n",
       "barreled                      -0.200415 -0.169862 -0.162283      -0.070444   \n",
       "\n",
       "                               barreled  \n",
       "batter                         0.002969  \n",
       "pitcher                       -0.000277  \n",
       "launch_speed                   0.000842  \n",
       "launch_angle                   0.004120  \n",
       "events                         0.005206  \n",
       "zone                           0.000838  \n",
       "launch_speed_angle             0.005840  \n",
       "estimated_ba_using_speedangle  0.004338  \n",
       "weak_contact                  -0.066299  \n",
       "topped                        -0.200415  \n",
       "under                         -0.169862  \n",
       "flare                         -0.162283  \n",
       "solid_contact                 -0.070444  \n",
       "barreled                       1.000000  "
      ]
     },
     "execution_count": 29,
     "metadata": {},
     "output_type": "execute_result"
    }
   ],
   "source": [
    "BBE.corr()\n",
    "#Viewing correlation between each feature."
   ]
  },
  {
   "cell_type": "code",
   "execution_count": 30,
   "id": "2e69fcf4",
   "metadata": {},
   "outputs": [
    {
     "data": {
      "text/plain": [
       "<AxesSubplot:>"
      ]
     },
     "execution_count": 30,
     "metadata": {},
     "output_type": "execute_result"
    },
    {
     "data": {
      "image/png": "[encoded data removed]",
      "text/plain": [
       "<Figure size 432x288 with 2 Axes>"
      ]
     },
     "metadata": {
      "needs_background": "light"
     },
     "output_type": "display_data"
    }
   ],
   "source": [
    "sns.heatmap(BBE.corr())\n",
    "#A heatmap of the correlation."
   ]
  }
 ],
 "metadata": {
  "kernelspec": {
   "display_name": "Python 3 (ipykernel)",
   "language": "python",
   "name": "python3"
  },
  "language_info": {
   "codemirror_mode": {
    "name": "ipython",
    "version": 3
   },
   "file_extension": ".py",
   "mimetype": "text/x-python",
   "name": "python",
   "nbconvert_exporter": "python",
   "pygments_lexer": "ipython3",
   "version": "3.9.12"
  }
 },
 "nbformat": 4,
 "nbformat_minor": 5
}
